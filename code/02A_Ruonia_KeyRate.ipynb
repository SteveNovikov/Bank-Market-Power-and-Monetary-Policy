{
 "cells": [
  {
   "cell_type": "code",
   "execution_count": 1,
   "id": "8ec9ec72",
   "metadata": {},
   "outputs": [],
   "source": [
    "import pandas as pd\n",
    "import numpy as np\n",
    "from datetime import datetime\n",
    "from datetime import timedelta\n",
    "import time\n",
    "import os"
   ]
  },
  {
   "cell_type": "code",
   "execution_count": 2,
   "id": "b18efdaa",
   "metadata": {},
   "outputs": [],
   "source": [
    "import warnings\n",
    "warnings.filterwarnings('ignore')"
   ]
  },
  {
   "cell_type": "code",
   "execution_count": 3,
   "id": "f8d81a55",
   "metadata": {},
   "outputs": [],
   "source": [
    "path = r'D:\\РЭШ\\Research\\PostThesis\\data'"
   ]
  },
  {
   "cell_type": "markdown",
   "id": "39ce8bd5",
   "metadata": {},
   "source": [
    "## 1. Read RUONIA data"
   ]
  },
  {
   "cell_type": "code",
   "execution_count": 4,
   "id": "c7415850",
   "metadata": {},
   "outputs": [],
   "source": [
    "path_ruo = path + r'\\ruonia_key'"
   ]
  },
  {
   "cell_type": "code",
   "execution_count": 5,
   "id": "532abc51",
   "metadata": {},
   "outputs": [],
   "source": [
    "df = pd.read_excel(path+r'\\external_data\\RC_F01_01_2017_T02_05_2024.xlsx').sort_values(by=['DT']).set_index('DT')"
   ]
  },
  {
   "cell_type": "code",
   "execution_count": 6,
   "id": "6a4e66a3",
   "metadata": {},
   "outputs": [
    {
     "data": {
      "text/html": [
       "<div>\n",
       "<style scoped>\n",
       "    .dataframe tbody tr th:only-of-type {\n",
       "        vertical-align: middle;\n",
       "    }\n",
       "\n",
       "    .dataframe tbody tr th {\n",
       "        vertical-align: top;\n",
       "    }\n",
       "\n",
       "    .dataframe thead th {\n",
       "        text-align: right;\n",
       "    }\n",
       "</style>\n",
       "<table border=\"1\" class=\"dataframe\">\n",
       "  <thead>\n",
       "    <tr style=\"text-align: right;\">\n",
       "      <th></th>\n",
       "      <th>ruo</th>\n",
       "      <th>vol</th>\n",
       "      <th>T</th>\n",
       "      <th>C</th>\n",
       "      <th>MinRate</th>\n",
       "      <th>Percentile25</th>\n",
       "      <th>Percentile75</th>\n",
       "      <th>MaxRate</th>\n",
       "      <th>StatusXML</th>\n",
       "      <th>DateUpdate</th>\n",
       "    </tr>\n",
       "    <tr>\n",
       "      <th>DT</th>\n",
       "      <th></th>\n",
       "      <th></th>\n",
       "      <th></th>\n",
       "      <th></th>\n",
       "      <th></th>\n",
       "      <th></th>\n",
       "      <th></th>\n",
       "      <th></th>\n",
       "      <th></th>\n",
       "      <th></th>\n",
       "    </tr>\n",
       "  </thead>\n",
       "  <tbody>\n",
       "    <tr>\n",
       "      <th>2017-01-09</th>\n",
       "      <td>10.13</td>\n",
       "      <td>242.45</td>\n",
       "      <td>NaN</td>\n",
       "      <td>NaN</td>\n",
       "      <td>NaN</td>\n",
       "      <td>NaN</td>\n",
       "      <td>NaN</td>\n",
       "      <td>NaN</td>\n",
       "      <td>NaN</td>\n",
       "      <td>NaT</td>\n",
       "    </tr>\n",
       "    <tr>\n",
       "      <th>2017-01-10</th>\n",
       "      <td>9.93</td>\n",
       "      <td>288.00</td>\n",
       "      <td>NaN</td>\n",
       "      <td>NaN</td>\n",
       "      <td>NaN</td>\n",
       "      <td>NaN</td>\n",
       "      <td>NaN</td>\n",
       "      <td>NaN</td>\n",
       "      <td>NaN</td>\n",
       "      <td>NaT</td>\n",
       "    </tr>\n",
       "    <tr>\n",
       "      <th>2017-01-11</th>\n",
       "      <td>9.97</td>\n",
       "      <td>165.50</td>\n",
       "      <td>NaN</td>\n",
       "      <td>NaN</td>\n",
       "      <td>NaN</td>\n",
       "      <td>NaN</td>\n",
       "      <td>NaN</td>\n",
       "      <td>NaN</td>\n",
       "      <td>NaN</td>\n",
       "      <td>NaT</td>\n",
       "    </tr>\n",
       "    <tr>\n",
       "      <th>2017-01-12</th>\n",
       "      <td>9.93</td>\n",
       "      <td>129.57</td>\n",
       "      <td>NaN</td>\n",
       "      <td>NaN</td>\n",
       "      <td>NaN</td>\n",
       "      <td>NaN</td>\n",
       "      <td>NaN</td>\n",
       "      <td>NaN</td>\n",
       "      <td>NaN</td>\n",
       "      <td>NaT</td>\n",
       "    </tr>\n",
       "    <tr>\n",
       "      <th>2017-01-13</th>\n",
       "      <td>10.06</td>\n",
       "      <td>114.31</td>\n",
       "      <td>NaN</td>\n",
       "      <td>NaN</td>\n",
       "      <td>NaN</td>\n",
       "      <td>NaN</td>\n",
       "      <td>NaN</td>\n",
       "      <td>NaN</td>\n",
       "      <td>NaN</td>\n",
       "      <td>NaT</td>\n",
       "    </tr>\n",
       "    <tr>\n",
       "      <th>...</th>\n",
       "      <td>...</td>\n",
       "      <td>...</td>\n",
       "      <td>...</td>\n",
       "      <td>...</td>\n",
       "      <td>...</td>\n",
       "      <td>...</td>\n",
       "      <td>...</td>\n",
       "      <td>...</td>\n",
       "      <td>...</td>\n",
       "      <td>...</td>\n",
       "    </tr>\n",
       "    <tr>\n",
       "      <th>2024-04-24</th>\n",
       "      <td>15.60</td>\n",
       "      <td>512.48</td>\n",
       "      <td>55.0</td>\n",
       "      <td>18.0</td>\n",
       "      <td>15.10</td>\n",
       "      <td>15.51</td>\n",
       "      <td>15.60</td>\n",
       "      <td>16.35</td>\n",
       "      <td>0.0</td>\n",
       "      <td>2024-04-25 14:11:56.410</td>\n",
       "    </tr>\n",
       "    <tr>\n",
       "      <th>2024-04-25</th>\n",
       "      <td>15.59</td>\n",
       "      <td>433.50</td>\n",
       "      <td>50.0</td>\n",
       "      <td>20.0</td>\n",
       "      <td>15.10</td>\n",
       "      <td>15.55</td>\n",
       "      <td>15.60</td>\n",
       "      <td>15.95</td>\n",
       "      <td>0.0</td>\n",
       "      <td>2024-04-26 14:06:40.640</td>\n",
       "    </tr>\n",
       "    <tr>\n",
       "      <th>2024-04-26</th>\n",
       "      <td>15.70</td>\n",
       "      <td>348.94</td>\n",
       "      <td>41.0</td>\n",
       "      <td>18.0</td>\n",
       "      <td>15.10</td>\n",
       "      <td>15.60</td>\n",
       "      <td>15.75</td>\n",
       "      <td>16.00</td>\n",
       "      <td>0.0</td>\n",
       "      <td>2024-04-27 14:05:07.210</td>\n",
       "    </tr>\n",
       "    <tr>\n",
       "      <th>2024-04-27</th>\n",
       "      <td>15.86</td>\n",
       "      <td>347.81</td>\n",
       "      <td>40.0</td>\n",
       "      <td>18.0</td>\n",
       "      <td>15.15</td>\n",
       "      <td>15.70</td>\n",
       "      <td>16.00</td>\n",
       "      <td>16.75</td>\n",
       "      <td>0.0</td>\n",
       "      <td>2024-05-02 14:07:39.440</td>\n",
       "    </tr>\n",
       "    <tr>\n",
       "      <th>2024-05-02</th>\n",
       "      <td>15.73</td>\n",
       "      <td>180.35</td>\n",
       "      <td>26.0</td>\n",
       "      <td>18.0</td>\n",
       "      <td>15.15</td>\n",
       "      <td>15.57</td>\n",
       "      <td>15.75</td>\n",
       "      <td>16.00</td>\n",
       "      <td>0.0</td>\n",
       "      <td>2024-05-03 14:52:44.440</td>\n",
       "    </tr>\n",
       "  </tbody>\n",
       "</table>\n",
       "<p>1795 rows × 10 columns</p>\n",
       "</div>"
      ],
      "text/plain": [
       "              ruo     vol     T     C  MinRate  Percentile25  Percentile75  \\\n",
       "DT                                                                           \n",
       "2017-01-09  10.13  242.45   NaN   NaN      NaN           NaN           NaN   \n",
       "2017-01-10   9.93  288.00   NaN   NaN      NaN           NaN           NaN   \n",
       "2017-01-11   9.97  165.50   NaN   NaN      NaN           NaN           NaN   \n",
       "2017-01-12   9.93  129.57   NaN   NaN      NaN           NaN           NaN   \n",
       "2017-01-13  10.06  114.31   NaN   NaN      NaN           NaN           NaN   \n",
       "...           ...     ...   ...   ...      ...           ...           ...   \n",
       "2024-04-24  15.60  512.48  55.0  18.0    15.10         15.51         15.60   \n",
       "2024-04-25  15.59  433.50  50.0  20.0    15.10         15.55         15.60   \n",
       "2024-04-26  15.70  348.94  41.0  18.0    15.10         15.60         15.75   \n",
       "2024-04-27  15.86  347.81  40.0  18.0    15.15         15.70         16.00   \n",
       "2024-05-02  15.73  180.35  26.0  18.0    15.15         15.57         15.75   \n",
       "\n",
       "            MaxRate  StatusXML              DateUpdate  \n",
       "DT                                                      \n",
       "2017-01-09      NaN        NaN                     NaT  \n",
       "2017-01-10      NaN        NaN                     NaT  \n",
       "2017-01-11      NaN        NaN                     NaT  \n",
       "2017-01-12      NaN        NaN                     NaT  \n",
       "2017-01-13      NaN        NaN                     NaT  \n",
       "...             ...        ...                     ...  \n",
       "2024-04-24    16.35        0.0 2024-04-25 14:11:56.410  \n",
       "2024-04-25    15.95        0.0 2024-04-26 14:06:40.640  \n",
       "2024-04-26    16.00        0.0 2024-04-27 14:05:07.210  \n",
       "2024-04-27    16.75        0.0 2024-05-02 14:07:39.440  \n",
       "2024-05-02    16.00        0.0 2024-05-03 14:52:44.440  \n",
       "\n",
       "[1795 rows x 10 columns]"
      ]
     },
     "execution_count": 6,
     "metadata": {},
     "output_type": "execute_result"
    }
   ],
   "source": [
    "df"
   ]
  },
  {
   "cell_type": "code",
   "execution_count": 7,
   "id": "40b9fd5f",
   "metadata": {},
   "outputs": [],
   "source": [
    "def quarter_to_date(quarter):\n",
    "    \"\"\"Quarter of the format 2003q1 to date format 2003-01-01\"\"\"\n",
    "    quarter_to_month = {'1': '01', '2': '04', '3': '07', '4': '10'}\n",
    "    return datetime.strptime(quarter[:4] + '-' + quarter_to_month[quarter[-1]] + '-01', '%Y-%m-%d')"
   ]
  },
  {
   "cell_type": "code",
   "execution_count": 8,
   "id": "80539960",
   "metadata": {},
   "outputs": [],
   "source": [
    "def date_to_quarter(date):\n",
    "    \"\"\"Date to format YYYYqN (2003-09-01 to 2003q3)\"\"\"\n",
    "    month_to_quarter = {1: 'q1', 2: 'q1', 3: 'q1',\n",
    "                        4: 'q2', 5: 'q2', 6: 'q2',\n",
    "                        7: 'q3', 8: 'q3', 9: 'q3',\n",
    "                        10: 'q4', 11: 'q4', 12: 'q4'}\n",
    "    quarter = str(date.year) + month_to_quarter[date.month]\n",
    "    return quarter"
   ]
  },
  {
   "cell_type": "code",
   "execution_count": 9,
   "id": "824ff516",
   "metadata": {},
   "outputs": [],
   "source": [
    "def dates_to_quarters(dates):\n",
    "    \"\"\"An array of dates to format YYYYqN (2003-09-01 to 2003q3)\"\"\"\n",
    "    quarters = []\n",
    "    for date in dates:\n",
    "        quarters.append(date_to_quarter(date))\n",
    "    return quarters"
   ]
  },
  {
   "cell_type": "markdown",
   "id": "c2b31d01",
   "metadata": {},
   "source": [
    "#### Aggregate RUONIA data to quarter"
   ]
  },
  {
   "cell_type": "code",
   "execution_count": 10,
   "id": "cdb1e8e6",
   "metadata": {},
   "outputs": [],
   "source": [
    "def quarterly_interest_aggregation(df, column):\n",
    "    \"\"\"Given data on date-to-date basis in a column, aggregate it into quarterly data as geometric mean\"\"\"\n",
    "    df['date'] = df.index\n",
    "    df['quarter'] = dates_to_quarters(df['date'])\n",
    "    res = pd.DataFrame()\n",
    "    for quarter in df['quarter'].unique():\n",
    "        ind = 1\n",
    "        count = 0\n",
    "        for date in df.loc[df['quarter']==quarter]['date']:\n",
    "            ind *= df.loc[df.index == date][column][date]\n",
    "            count += 1\n",
    "        ind = ind**(1/count)\n",
    "        df_temp = pd.DataFrame({'quarter': [quarter], column: [ind], 'obs': [count]})\n",
    "        res = pd.concat([res, df_temp], ignore_index = True)\n",
    "        res.reset_index()\n",
    "    return res"
   ]
  },
  {
   "cell_type": "code",
   "execution_count": 11,
   "id": "570aa7ba",
   "metadata": {},
   "outputs": [],
   "source": [
    "df['ruo_return'] = 1+df['ruo']/100\n",
    "df_output = quarterly_interest_aggregation(df, 'ruo_return')\n",
    "df_output['ruo'] = (df_output['ruo_return']-1)*100"
   ]
  },
  {
   "cell_type": "code",
   "execution_count": 12,
   "id": "db4f4f26",
   "metadata": {},
   "outputs": [
    {
     "data": {
      "text/html": [
       "<div>\n",
       "<style scoped>\n",
       "    .dataframe tbody tr th:only-of-type {\n",
       "        vertical-align: middle;\n",
       "    }\n",
       "\n",
       "    .dataframe tbody tr th {\n",
       "        vertical-align: top;\n",
       "    }\n",
       "\n",
       "    .dataframe thead th {\n",
       "        text-align: right;\n",
       "    }\n",
       "</style>\n",
       "<table border=\"1\" class=\"dataframe\">\n",
       "  <thead>\n",
       "    <tr style=\"text-align: right;\">\n",
       "      <th></th>\n",
       "      <th>quarter</th>\n",
       "      <th>ruo_return</th>\n",
       "      <th>obs</th>\n",
       "      <th>ruo</th>\n",
       "    </tr>\n",
       "  </thead>\n",
       "  <tbody>\n",
       "    <tr>\n",
       "      <th>0</th>\n",
       "      <td>2017q1</td>\n",
       "      <td>1.100449</td>\n",
       "      <td>57</td>\n",
       "      <td>10.044911</td>\n",
       "    </tr>\n",
       "    <tr>\n",
       "      <th>1</th>\n",
       "      <td>2017q2</td>\n",
       "      <td>1.092559</td>\n",
       "      <td>61</td>\n",
       "      <td>9.255887</td>\n",
       "    </tr>\n",
       "    <tr>\n",
       "      <th>2</th>\n",
       "      <td>2017q3</td>\n",
       "      <td>1.085853</td>\n",
       "      <td>65</td>\n",
       "      <td>8.585349</td>\n",
       "    </tr>\n",
       "    <tr>\n",
       "      <th>3</th>\n",
       "      <td>2017q4</td>\n",
       "      <td>1.079385</td>\n",
       "      <td>63</td>\n",
       "      <td>7.938470</td>\n",
       "    </tr>\n",
       "    <tr>\n",
       "      <th>4</th>\n",
       "      <td>2018q1</td>\n",
       "      <td>1.071343</td>\n",
       "      <td>56</td>\n",
       "      <td>7.134349</td>\n",
       "    </tr>\n",
       "    <tr>\n",
       "      <th>5</th>\n",
       "      <td>2018q2</td>\n",
       "      <td>1.069848</td>\n",
       "      <td>61</td>\n",
       "      <td>6.984829</td>\n",
       "    </tr>\n",
       "    <tr>\n",
       "      <th>6</th>\n",
       "      <td>2018q3</td>\n",
       "      <td>1.070793</td>\n",
       "      <td>65</td>\n",
       "      <td>7.079323</td>\n",
       "    </tr>\n",
       "    <tr>\n",
       "      <th>7</th>\n",
       "      <td>2018q4</td>\n",
       "      <td>1.073212</td>\n",
       "      <td>64</td>\n",
       "      <td>7.321224</td>\n",
       "    </tr>\n",
       "    <tr>\n",
       "      <th>8</th>\n",
       "      <td>2019q1</td>\n",
       "      <td>1.075731</td>\n",
       "      <td>57</td>\n",
       "      <td>7.573094</td>\n",
       "    </tr>\n",
       "    <tr>\n",
       "      <th>9</th>\n",
       "      <td>2019q2</td>\n",
       "      <td>1.076182</td>\n",
       "      <td>59</td>\n",
       "      <td>7.618170</td>\n",
       "    </tr>\n",
       "    <tr>\n",
       "      <th>10</th>\n",
       "      <td>2019q3</td>\n",
       "      <td>1.070569</td>\n",
       "      <td>66</td>\n",
       "      <td>7.056934</td>\n",
       "    </tr>\n",
       "    <tr>\n",
       "      <th>11</th>\n",
       "      <td>2019q4</td>\n",
       "      <td>1.064665</td>\n",
       "      <td>64</td>\n",
       "      <td>6.466480</td>\n",
       "    </tr>\n",
       "    <tr>\n",
       "      <th>12</th>\n",
       "      <td>2020q1</td>\n",
       "      <td>1.059003</td>\n",
       "      <td>55</td>\n",
       "      <td>5.900333</td>\n",
       "    </tr>\n",
       "    <tr>\n",
       "      <th>13</th>\n",
       "      <td>2020q2</td>\n",
       "      <td>1.053984</td>\n",
       "      <td>56</td>\n",
       "      <td>5.398368</td>\n",
       "    </tr>\n",
       "    <tr>\n",
       "      <th>14</th>\n",
       "      <td>2020q3</td>\n",
       "      <td>1.041521</td>\n",
       "      <td>65</td>\n",
       "      <td>4.152118</td>\n",
       "    </tr>\n",
       "    <tr>\n",
       "      <th>15</th>\n",
       "      <td>2020q4</td>\n",
       "      <td>1.041335</td>\n",
       "      <td>64</td>\n",
       "      <td>4.133489</td>\n",
       "    </tr>\n",
       "    <tr>\n",
       "      <th>16</th>\n",
       "      <td>2021q1</td>\n",
       "      <td>1.041545</td>\n",
       "      <td>56</td>\n",
       "      <td>4.154468</td>\n",
       "    </tr>\n",
       "    <tr>\n",
       "      <th>17</th>\n",
       "      <td>2021q2</td>\n",
       "      <td>1.047717</td>\n",
       "      <td>62</td>\n",
       "      <td>4.771662</td>\n",
       "    </tr>\n",
       "    <tr>\n",
       "      <th>18</th>\n",
       "      <td>2021q3</td>\n",
       "      <td>1.062086</td>\n",
       "      <td>66</td>\n",
       "      <td>6.208578</td>\n",
       "    </tr>\n",
       "    <tr>\n",
       "      <th>19</th>\n",
       "      <td>2021q4</td>\n",
       "      <td>1.072290</td>\n",
       "      <td>62</td>\n",
       "      <td>7.229042</td>\n",
       "    </tr>\n",
       "    <tr>\n",
       "      <th>20</th>\n",
       "      <td>2022q1</td>\n",
       "      <td>1.130845</td>\n",
       "      <td>57</td>\n",
       "      <td>13.084486</td>\n",
       "    </tr>\n",
       "    <tr>\n",
       "      <th>21</th>\n",
       "      <td>2022q2</td>\n",
       "      <td>1.133065</td>\n",
       "      <td>60</td>\n",
       "      <td>13.306508</td>\n",
       "    </tr>\n",
       "    <tr>\n",
       "      <th>22</th>\n",
       "      <td>2022q3</td>\n",
       "      <td>1.081646</td>\n",
       "      <td>66</td>\n",
       "      <td>8.164577</td>\n",
       "    </tr>\n",
       "    <tr>\n",
       "      <th>23</th>\n",
       "      <td>2022q4</td>\n",
       "      <td>1.074562</td>\n",
       "      <td>63</td>\n",
       "      <td>7.456175</td>\n",
       "    </tr>\n",
       "    <tr>\n",
       "      <th>24</th>\n",
       "      <td>2023q1</td>\n",
       "      <td>1.071733</td>\n",
       "      <td>57</td>\n",
       "      <td>7.173254</td>\n",
       "    </tr>\n",
       "    <tr>\n",
       "      <th>25</th>\n",
       "      <td>2023q2</td>\n",
       "      <td>1.072190</td>\n",
       "      <td>61</td>\n",
       "      <td>7.219037</td>\n",
       "    </tr>\n",
       "    <tr>\n",
       "      <th>26</th>\n",
       "      <td>2023q3</td>\n",
       "      <td>1.101198</td>\n",
       "      <td>65</td>\n",
       "      <td>10.119768</td>\n",
       "    </tr>\n",
       "    <tr>\n",
       "      <th>27</th>\n",
       "      <td>2023q4</td>\n",
       "      <td>1.142830</td>\n",
       "      <td>63</td>\n",
       "      <td>14.282954</td>\n",
       "    </tr>\n",
       "    <tr>\n",
       "      <th>28</th>\n",
       "      <td>2024q1</td>\n",
       "      <td>1.157061</td>\n",
       "      <td>57</td>\n",
       "      <td>15.706079</td>\n",
       "    </tr>\n",
       "    <tr>\n",
       "      <th>29</th>\n",
       "      <td>2024q2</td>\n",
       "      <td>1.157027</td>\n",
       "      <td>22</td>\n",
       "      <td>15.702692</td>\n",
       "    </tr>\n",
       "  </tbody>\n",
       "</table>\n",
       "</div>"
      ],
      "text/plain": [
       "   quarter  ruo_return  obs        ruo\n",
       "0   2017q1    1.100449   57  10.044911\n",
       "1   2017q2    1.092559   61   9.255887\n",
       "2   2017q3    1.085853   65   8.585349\n",
       "3   2017q4    1.079385   63   7.938470\n",
       "4   2018q1    1.071343   56   7.134349\n",
       "5   2018q2    1.069848   61   6.984829\n",
       "6   2018q3    1.070793   65   7.079323\n",
       "7   2018q4    1.073212   64   7.321224\n",
       "8   2019q1    1.075731   57   7.573094\n",
       "9   2019q2    1.076182   59   7.618170\n",
       "10  2019q3    1.070569   66   7.056934\n",
       "11  2019q4    1.064665   64   6.466480\n",
       "12  2020q1    1.059003   55   5.900333\n",
       "13  2020q2    1.053984   56   5.398368\n",
       "14  2020q3    1.041521   65   4.152118\n",
       "15  2020q4    1.041335   64   4.133489\n",
       "16  2021q1    1.041545   56   4.154468\n",
       "17  2021q2    1.047717   62   4.771662\n",
       "18  2021q3    1.062086   66   6.208578\n",
       "19  2021q4    1.072290   62   7.229042\n",
       "20  2022q1    1.130845   57  13.084486\n",
       "21  2022q2    1.133065   60  13.306508\n",
       "22  2022q3    1.081646   66   8.164577\n",
       "23  2022q4    1.074562   63   7.456175\n",
       "24  2023q1    1.071733   57   7.173254\n",
       "25  2023q2    1.072190   61   7.219037\n",
       "26  2023q3    1.101198   65  10.119768\n",
       "27  2023q4    1.142830   63  14.282954\n",
       "28  2024q1    1.157061   57  15.706079\n",
       "29  2024q2    1.157027   22  15.702692"
      ]
     },
     "execution_count": 12,
     "metadata": {},
     "output_type": "execute_result"
    }
   ],
   "source": [
    "df_output"
   ]
  },
  {
   "cell_type": "code",
   "execution_count": 13,
   "id": "653bf22a",
   "metadata": {},
   "outputs": [],
   "source": [
    "df_output.to_excel(path_ruo + r'\\ruonia_quarter.xlsx', sheet_name='quarter')\n",
    "#df_output.to_csv(path_ruo + r'\\ruonia_quarter.csv', encoding='utf-8')"
   ]
  },
  {
   "cell_type": "markdown",
   "id": "4a2c282d",
   "metadata": {},
   "source": [
    "#### Aggregate RUONIA data to year"
   ]
  },
  {
   "cell_type": "code",
   "execution_count": 14,
   "id": "566544aa",
   "metadata": {},
   "outputs": [],
   "source": [
    "def dates_to_years(dates):\n",
    "    \"\"\"An array of dates to format YYYY (2003-09-01 to 2003)\"\"\"\n",
    "    years = []\n",
    "    for date in dates:\n",
    "        years.append(date.year)\n",
    "    return years"
   ]
  },
  {
   "cell_type": "code",
   "execution_count": 15,
   "id": "e74e8b14",
   "metadata": {},
   "outputs": [],
   "source": [
    "def yearly_interest_aggregation(df, column):\n",
    "    \"\"\"Given data on date-to-date basis in a column, aggregate it into yearly data as geometric mean\"\"\"\n",
    "    df['date'] = df.index\n",
    "    df['year'] = dates_to_years(df['date'])\n",
    "    res = pd.DataFrame()\n",
    "    for year in df['year'].unique():\n",
    "        ind = 1\n",
    "        count = 0\n",
    "        for date in df.loc[df['year']==year]['date']:\n",
    "            ind *= df.loc[df.index == date][column][date]\n",
    "            count += 1\n",
    "        ind = ind**(1/count)\n",
    "        df_temp = pd.DataFrame({'year': [year], column: [ind], 'obs': [count]})\n",
    "        res = pd.concat([res, df_temp], ignore_index = True)\n",
    "        res.reset_index()\n",
    "    return res"
   ]
  },
  {
   "cell_type": "code",
   "execution_count": 16,
   "id": "3062dc6f",
   "metadata": {},
   "outputs": [
    {
     "data": {
      "text/html": [
       "<div>\n",
       "<style scoped>\n",
       "    .dataframe tbody tr th:only-of-type {\n",
       "        vertical-align: middle;\n",
       "    }\n",
       "\n",
       "    .dataframe tbody tr th {\n",
       "        vertical-align: top;\n",
       "    }\n",
       "\n",
       "    .dataframe thead th {\n",
       "        text-align: right;\n",
       "    }\n",
       "</style>\n",
       "<table border=\"1\" class=\"dataframe\">\n",
       "  <thead>\n",
       "    <tr style=\"text-align: right;\">\n",
       "      <th></th>\n",
       "      <th>year</th>\n",
       "      <th>ruo_return</th>\n",
       "      <th>obs</th>\n",
       "      <th>ruo</th>\n",
       "    </tr>\n",
       "  </thead>\n",
       "  <tbody>\n",
       "    <tr>\n",
       "      <th>0</th>\n",
       "      <td>2017</td>\n",
       "      <td>1.089214</td>\n",
       "      <td>246</td>\n",
       "      <td>8.921407</td>\n",
       "    </tr>\n",
       "    <tr>\n",
       "      <th>1</th>\n",
       "      <td>2018</td>\n",
       "      <td>1.071313</td>\n",
       "      <td>246</td>\n",
       "      <td>7.131280</td>\n",
       "    </tr>\n",
       "    <tr>\n",
       "      <th>2</th>\n",
       "      <td>2019</td>\n",
       "      <td>1.071565</td>\n",
       "      <td>246</td>\n",
       "      <td>7.156506</td>\n",
       "    </tr>\n",
       "    <tr>\n",
       "      <th>3</th>\n",
       "      <td>2020</td>\n",
       "      <td>1.048358</td>\n",
       "      <td>240</td>\n",
       "      <td>4.835757</td>\n",
       "    </tr>\n",
       "    <tr>\n",
       "      <th>4</th>\n",
       "      <td>2021</td>\n",
       "      <td>1.056293</td>\n",
       "      <td>246</td>\n",
       "      <td>5.629321</td>\n",
       "    </tr>\n",
       "    <tr>\n",
       "      <th>5</th>\n",
       "      <td>2022</td>\n",
       "      <td>1.103443</td>\n",
       "      <td>246</td>\n",
       "      <td>10.344277</td>\n",
       "    </tr>\n",
       "    <tr>\n",
       "      <th>6</th>\n",
       "      <td>2023</td>\n",
       "      <td>1.097460</td>\n",
       "      <td>246</td>\n",
       "      <td>9.745966</td>\n",
       "    </tr>\n",
       "    <tr>\n",
       "      <th>7</th>\n",
       "      <td>2024</td>\n",
       "      <td>1.157051</td>\n",
       "      <td>79</td>\n",
       "      <td>15.705136</td>\n",
       "    </tr>\n",
       "  </tbody>\n",
       "</table>\n",
       "</div>"
      ],
      "text/plain": [
       "   year  ruo_return  obs        ruo\n",
       "0  2017    1.089214  246   8.921407\n",
       "1  2018    1.071313  246   7.131280\n",
       "2  2019    1.071565  246   7.156506\n",
       "3  2020    1.048358  240   4.835757\n",
       "4  2021    1.056293  246   5.629321\n",
       "5  2022    1.103443  246  10.344277\n",
       "6  2023    1.097460  246   9.745966\n",
       "7  2024    1.157051   79  15.705136"
      ]
     },
     "execution_count": 16,
     "metadata": {},
     "output_type": "execute_result"
    }
   ],
   "source": [
    "df_output = yearly_interest_aggregation(df, 'ruo_return')\n",
    "df_output['ruo'] = (df_output['ruo_return']-1)*100\n",
    "df_output"
   ]
  },
  {
   "cell_type": "code",
   "execution_count": 17,
   "id": "255b81ff",
   "metadata": {},
   "outputs": [],
   "source": [
    "df_output.to_excel(path_ruo + r'\\ruonia_year.xlsx', sheet_name='year')\n",
    "#df_output.to_csv(path_ruo + r'\\ruonia_year.csv', encoding='utf-8')"
   ]
  },
  {
   "cell_type": "markdown",
   "id": "43d0c5bd",
   "metadata": {},
   "source": [
    "## 2. Read Key rate data"
   ]
  },
  {
   "cell_type": "code",
   "execution_count": 18,
   "id": "501aa7ae",
   "metadata": {},
   "outputs": [],
   "source": [
    "def monthyear_to_date(monthyear):\n",
    "    \"\"\"Monthyear of the format MM.YYYY to date format YYYY-MM-DD (from 03.2003 to 2003-03-01)\"\"\"\n",
    "    monthyear = str(monthyear)\n",
    "    if len(monthyear[monthyear.find('.')+1:])<4:\n",
    "        monthyear += '0'\n",
    "    return datetime.strptime(monthyear[monthyear.find('.')+1:] + '-' + \n",
    "                             monthyear[:monthyear.find('.')] + '-01', '%Y-%m-%d')"
   ]
  },
  {
   "cell_type": "code",
   "execution_count": 19,
   "id": "8cc1a607",
   "metadata": {},
   "outputs": [],
   "source": [
    "def monthyears_to_dates(monthyears):\n",
    "    \"\"\"An array of monthyears MM.YYYY to date format\"\"\"\n",
    "    dates = []\n",
    "    for monthyear in monthyears:\n",
    "        dates.append(monthyear_to_date(monthyear))\n",
    "    return dates"
   ]
  },
  {
   "cell_type": "markdown",
   "id": "f8bac4c2",
   "metadata": {},
   "source": [
    "### Key rate from monthly data"
   ]
  },
  {
   "cell_type": "code",
   "execution_count": 20,
   "id": "39481b18",
   "metadata": {},
   "outputs": [],
   "source": [
    "df = pd.read_excel(path+r'\\external_data\\Инфляция и ключевая ставка Банка России_F01_01_2017_T03_05_2024.xlsx')"
   ]
  },
  {
   "cell_type": "code",
   "execution_count": 21,
   "id": "c8a8d711",
   "metadata": {},
   "outputs": [],
   "source": [
    "df['date'] = monthyears_to_dates(df['Дата'])\n",
    "df['key_rate'] = df['Ключевая ставка, % годовых']\n",
    "df = df.sort_values(by=['date']).set_index('date')\n",
    "df['key_return'] = 1+df['key_rate']/100"
   ]
  },
  {
   "cell_type": "code",
   "execution_count": 22,
   "id": "79338d2d",
   "metadata": {},
   "outputs": [],
   "source": [
    "# quarterly aggregation\n",
    "df_output = quarterly_interest_aggregation(df, 'key_return')\n",
    "df_output['key_rate'] = (df_output['key_return']-1)*100\n",
    "df_output.to_excel(path_ruo + r'\\key_quarter_from_monthly.xlsx')"
   ]
  },
  {
   "cell_type": "code",
   "execution_count": 23,
   "id": "f0528448",
   "metadata": {},
   "outputs": [],
   "source": [
    "# yearly aggregation\n",
    "df_output = yearly_interest_aggregation(df, 'key_return')\n",
    "df_output['key_rate'] = (df_output['key_return']-1)*100\n",
    "df_output.to_excel(path_ruo + r'\\key_year_from_monthly.xlsx')"
   ]
  },
  {
   "cell_type": "markdown",
   "id": "f5c8227f",
   "metadata": {},
   "source": [
    "### Key rate from daily data"
   ]
  },
  {
   "cell_type": "code",
   "execution_count": 24,
   "id": "b69893d0",
   "metadata": {},
   "outputs": [],
   "source": [
    "df = pd.read_excel(path+r'\\external_data\\key_rate_data.xlsx')\n",
    "df = df.rename(columns={'Дата': 'date', 'Ставка': 'key_rate'}).set_index('date')\n",
    "df['key_return'] = 1+df['key_rate']/100"
   ]
  },
  {
   "cell_type": "code",
   "execution_count": 25,
   "id": "e39f1c7b",
   "metadata": {},
   "outputs": [],
   "source": [
    "# quarterly aggregation\n",
    "df_output = quarterly_interest_aggregation(df, 'key_return')\n",
    "df_output['key_rate'] = (df_output['key_return']-1)*100\n",
    "df_output.to_excel(path_ruo + r'\\key_quarter_from_daily.xlsx')"
   ]
  },
  {
   "cell_type": "code",
   "execution_count": 26,
   "id": "eb24b6e7",
   "metadata": {},
   "outputs": [],
   "source": [
    "# yearly aggregation\n",
    "df_output = yearly_interest_aggregation(df, 'key_return')\n",
    "df_output['key_rate'] = (df_output['key_return']-1)*100\n",
    "df_output.to_excel(path_ruo + r'\\key_year_from_daily.xlsx')"
   ]
  },
  {
   "cell_type": "markdown",
   "id": "0c933b21",
   "metadata": {},
   "source": [
    "### Combined"
   ]
  },
  {
   "cell_type": "markdown",
   "id": "24d9f153",
   "metadata": {},
   "source": [
    "Quarterly"
   ]
  },
  {
   "cell_type": "code",
   "execution_count": 27,
   "id": "1e90f1af",
   "metadata": {},
   "outputs": [
    {
     "name": "stdout",
     "output_type": "stream",
     "text": [
      "0.976\n"
     ]
    }
   ],
   "source": [
    "df_m = pd.read_excel(path_ruo+r'\\key_quarter_from_monthly.xlsx')[['quarter','key_rate']].rename(columns={'key_rate': 'key_rate_m'})\n",
    "df_d = pd.read_excel(path_ruo+r'\\key_quarter_from_daily.xlsx')[['quarter','key_rate']]\n",
    "df = df_m.join(df_d.set_index('quarter'), on='quarter')\n",
    "os.remove(path_ruo+r'\\key_quarter_from_monthly.xlsx')\n",
    "os.remove(path_ruo+r'\\key_quarter_from_daily.xlsx')\n",
    "print(f\"{np.corrcoef(np.array(df['key_rate_m']), np.array(df['key_rate']))[0,1]:.3f}\")"
   ]
  },
  {
   "cell_type": "code",
   "execution_count": 28,
   "id": "cdceef15",
   "metadata": {},
   "outputs": [],
   "source": [
    "df.to_excel(path_ruo+r'\\key_quarter.xlsx')"
   ]
  },
  {
   "cell_type": "markdown",
   "id": "3c348836",
   "metadata": {},
   "source": [
    "Yearly"
   ]
  },
  {
   "cell_type": "code",
   "execution_count": 29,
   "id": "c3e3489d",
   "metadata": {},
   "outputs": [
    {
     "name": "stdout",
     "output_type": "stream",
     "text": [
      "0.998\n"
     ]
    }
   ],
   "source": [
    "df_m = pd.read_excel(path_ruo+r'\\key_year_from_monthly.xlsx')[['year','key_rate']].rename(columns={'key_rate': 'key_rate_m'})\n",
    "df_d = pd.read_excel(path_ruo+r'\\key_year_from_daily.xlsx')[['year','key_rate']]\n",
    "df = df_m.join(df_d.set_index('year'), on='year')\n",
    "os.remove(path_ruo+r'\\key_year_from_monthly.xlsx')\n",
    "os.remove(path_ruo+r'\\key_year_from_daily.xlsx')\n",
    "print(f\"{np.corrcoef(np.array(df['key_rate_m']), np.array(df['key_rate']))[0,1]:.3f}\")"
   ]
  },
  {
   "cell_type": "code",
   "execution_count": 30,
   "id": "cac94355",
   "metadata": {},
   "outputs": [],
   "source": [
    "df.to_excel(path_ruo+r'\\key_year.xlsx')"
   ]
  },
  {
   "cell_type": "markdown",
   "id": "52a906d2",
   "metadata": {},
   "source": [
    "## 3. Add RUONIA and Key rate to the var dataset"
   ]
  },
  {
   "cell_type": "markdown",
   "id": "93e24a8d",
   "metadata": {},
   "source": [
    "Lookup a directory with all var files, prepared in ```02_Processing.ipynb```. Take only``` _var_real.xlsx``` files. "
   ]
  },
  {
   "cell_type": "code",
   "execution_count": 31,
   "id": "44433050",
   "metadata": {},
   "outputs": [],
   "source": [
    "path_var = path + r'\\var'\n",
    "dir_list = os.listdir(path_var)"
   ]
  },
  {
   "cell_type": "code",
   "execution_count": 32,
   "id": "b67d9a68",
   "metadata": {},
   "outputs": [
    {
     "data": {
      "text/plain": [
       "['bankdata_2017-2020_y_var.xlsx',\n",
       " 'bankdata_2017-2020_y_var_real.xlsx',\n",
       " 'bankdata_201709-202109_q_var.xlsx',\n",
       " 'bankdata_201709-202109_q_var_real.xlsx',\n",
       " 'bankdata_201903-202009_nodeacc.xlsx']"
      ]
     },
     "execution_count": 32,
     "metadata": {},
     "output_type": "execute_result"
    }
   ],
   "source": [
    "dir_list"
   ]
  },
  {
   "cell_type": "code",
   "execution_count": 33,
   "id": "dcb0f032",
   "metadata": {},
   "outputs": [
    {
     "data": {
      "text/plain": [
       "['bankdata_2017-2020_y_var_real.xlsx',\n",
       " 'bankdata_201709-202109_q_var_real.xlsx']"
      ]
     },
     "execution_count": 33,
     "metadata": {},
     "output_type": "execute_result"
    }
   ],
   "source": [
    "files = []\n",
    "for file in dir_list:\n",
    "    if file.find('_var_real.xlsx')>0:\n",
    "        files.append(file)\n",
    "files"
   ]
  },
  {
   "cell_type": "markdown",
   "id": "292c7060",
   "metadata": {},
   "source": [
    "### Quarterly data"
   ]
  },
  {
   "cell_type": "code",
   "execution_count": 34,
   "id": "e96b6106",
   "metadata": {},
   "outputs": [],
   "source": [
    "df_ruo = pd.read_excel(path_ruo + r'\\ruonia_quarter.xlsx', sheet_name='quarter')\n",
    "df_key = pd.read_excel(path_ruo + r'\\key_quarter.xlsx')"
   ]
  },
  {
   "cell_type": "code",
   "execution_count": 35,
   "id": "f7187620",
   "metadata": {},
   "outputs": [
    {
     "data": {
      "text/plain": [
       "['bankdata_201709-202109_q_var_real.xlsx']"
      ]
     },
     "execution_count": 35,
     "metadata": {},
     "output_type": "execute_result"
    }
   ],
   "source": [
    "files = []\n",
    "for file in dir_list:\n",
    "    if file.find('_q_var_real.xlsx')>0:\n",
    "        files.append(file)\n",
    "files"
   ]
  },
  {
   "cell_type": "code",
   "execution_count": 36,
   "id": "37d075f2",
   "metadata": {},
   "outputs": [],
   "source": [
    "for i in range(len(files)):\n",
    "    df = pd.read_excel(path_var + r'\\\\' + files[i])\n",
    "    df_output = df.join(df_ruo[['quarter','ruo']].set_index('quarter'), on='quarter')\n",
    "    df_output = df_output.join(df_key[['quarter','key_rate']].set_index('quarter'), on='quarter')\n",
    "    df_output.to_excel(path + r'\\var\\\\'+files[i][:files[i].find('.')] + '_ruo.xlsx')\n",
    "    #df_output.to_csv(path + r'\\var\\\\'+files[i][:files[i].find('.')] + '_ruo.csv', encoding='utf-8')"
   ]
  },
  {
   "cell_type": "markdown",
   "id": "fc4622ef",
   "metadata": {},
   "source": [
    "### Yearly data"
   ]
  },
  {
   "cell_type": "code",
   "execution_count": 37,
   "id": "f0a75574",
   "metadata": {},
   "outputs": [],
   "source": [
    "df_ruo = pd.read_excel(path_ruo + r'\\ruonia_year.xlsx', sheet_name='year')\n",
    "df_ruo['dt_year'] = df_ruo['year']\n",
    "df_key = pd.read_excel(path_ruo + r'\\key_year.xlsx')\n",
    "df_key['dt_year'] = df_key['year']\n",
    "#df_ruo"
   ]
  },
  {
   "cell_type": "code",
   "execution_count": 38,
   "id": "739aa2c3",
   "metadata": {},
   "outputs": [
    {
     "data": {
      "text/plain": [
       "['bankdata_2017-2020_y_var_real.xlsx']"
      ]
     },
     "execution_count": 38,
     "metadata": {},
     "output_type": "execute_result"
    }
   ],
   "source": [
    "files = []\n",
    "for file in dir_list:\n",
    "    if file.find('_y_var_real.xlsx')>0:\n",
    "        files.append(file)\n",
    "files"
   ]
  },
  {
   "cell_type": "code",
   "execution_count": 39,
   "id": "b95a3524",
   "metadata": {},
   "outputs": [],
   "source": [
    "for i in range(len(files)):\n",
    "    df = pd.read_excel(path_var + r'\\\\' + files[i])\n",
    "    df_output = df.join(df_ruo[['dt_year','ruo']].set_index('dt_year'), on='dt_year')\n",
    "    df_output = df_output.join(df_key[['dt_year','key_rate']].set_index('dt_year'), on='dt_year')\n",
    "    df_output.to_excel(path + r'\\var\\\\'+files[i][:files[i].find('.')] + '_ruo.xlsx')\n",
    "    #df_output.to_csv(path + r'\\var\\\\'+files[i][:files[i].find('.')] + '_ruo.csv', encoding='utf-8')"
   ]
  },
  {
   "cell_type": "code",
   "execution_count": null,
   "id": "ea95b829",
   "metadata": {},
   "outputs": [],
   "source": []
  }
 ],
 "metadata": {
  "kernelspec": {
   "display_name": "Python 3 (ipykernel)",
   "language": "python",
   "name": "python3"
  },
  "language_info": {
   "codemirror_mode": {
    "name": "ipython",
    "version": 3
   },
   "file_extension": ".py",
   "mimetype": "text/x-python",
   "name": "python",
   "nbconvert_exporter": "python",
   "pygments_lexer": "ipython3",
   "version": "3.9.12"
  }
 },
 "nbformat": 4,
 "nbformat_minor": 5
}
