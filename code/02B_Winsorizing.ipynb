{
 "cells": [
  {
   "cell_type": "code",
   "execution_count": 1,
   "id": "7e977e77",
   "metadata": {},
   "outputs": [],
   "source": [
    "import pandas as pd\n",
    "import numpy as np\n",
    "from datetime import datetime\n",
    "from datetime import timedelta\n",
    "import time\n",
    "import os"
   ]
  },
  {
   "cell_type": "code",
   "execution_count": 2,
   "id": "4b87e59a",
   "metadata": {},
   "outputs": [],
   "source": [
    "import warnings\n",
    "warnings.filterwarnings('ignore')"
   ]
  },
  {
   "cell_type": "code",
   "execution_count": 3,
   "id": "71ebbdc5",
   "metadata": {},
   "outputs": [],
   "source": [
    "path = r'D:\\РЭШ\\Research\\PostThesis\\data'"
   ]
  },
  {
   "cell_type": "code",
   "execution_count": 4,
   "id": "a656bd25",
   "metadata": {},
   "outputs": [
    {
     "data": {
      "text/plain": [
       "['bankdata_2017-2020_y_var_real_ruo.xlsx',\n",
       " 'bankdata_201709-202109_q_var_real_ruo.xlsx']"
      ]
     },
     "execution_count": 4,
     "metadata": {},
     "output_type": "execute_result"
    }
   ],
   "source": [
    "path_var = path + r'\\var'\n",
    "dir_list = os.listdir(path_var)\n",
    "\n",
    "files = []\n",
    "for file in dir_list:\n",
    "    if file.find('_var_real_ruo.xlsx')>0:\n",
    "        files.append(file)\n",
    "files"
   ]
  },
  {
   "cell_type": "code",
   "execution_count": 5,
   "id": "28eb0a9c",
   "metadata": {},
   "outputs": [],
   "source": [
    "i=0\n",
    "df = pd.read_excel(path_var + r'\\\\' + files[i])"
   ]
  },
  {
   "cell_type": "code",
   "execution_count": 6,
   "id": "c8705149",
   "metadata": {},
   "outputs": [
    {
     "data": {
      "text/plain": [
       "Index(['Unnamed: 0.2', 'Unnamed: 0.1', 'Unnamed: 0', 'regnum', 'dt_year',\n",
       "       'dt_month', 'quarter', 'Name', 'Total_assets', 'Net_worth',\n",
       "       'Net_income', 'Loans', 'Admin_expenses', 'Rel_Admin_expenses',\n",
       "       'Securities', 'Cash', 'Liabilities', 'NIE', 'NII', 'II_Loans',\n",
       "       'IE_Deposits', 'Leverage', 'Deposits', 'Pure_deposits', 'Sales',\n",
       "       'Safe_funds', 'Safe_funds_income', 'Safe_rev', 'PoL', 'CoF', 'ruo',\n",
       "       'key_rate'],\n",
       "      dtype='object')"
      ]
     },
     "execution_count": 6,
     "metadata": {},
     "output_type": "execute_result"
    }
   ],
   "source": [
    "df.columns"
   ]
  },
  {
   "cell_type": "markdown",
   "id": "59d833dd",
   "metadata": {},
   "source": [
    "# Winsorizing and Summary statistics\n",
    "Note that the following variables are used for markup estimation:\n",
    "* NIE (Non-interest expenses)\n",
    "* NII (Non-interest income)\n",
    "* Loans (Total loans)\n",
    "* Deposits (Total finacial liabilities, including deposits, interbank loans, bonds etc)\n",
    "* Securities (Total securities holdings)\n",
    "* II_Loans (Interest income on loans)\n",
    "* IE_Deposits (Interest expenses on deposits)\n",
    "\n",
    "For HHI also used:\n",
    "* Sales (Total interest income + Comission income)\n",
    "\n",
    "Save to the folder ```var_wins```."
   ]
  },
  {
   "cell_type": "code",
   "execution_count": 7,
   "id": "7dfef456",
   "metadata": {},
   "outputs": [],
   "source": [
    "def Winsorize(df, q_min, q_max):\n",
    "    \"\"\" \n",
    "    The function does Winsorizing the necessary columns for the DataFrame with correspoding quantiles\n",
    "    Quantiles are from 0 to 1.\n",
    "    \n",
    "    Returns Winsorized df and df_stat with summary statistics of Winsorized columns.\n",
    "    \"\"\"\n",
    "    col = 'Total_assets'\n",
    "    df_stat = pd.DataFrame({'Variable': [col], \n",
    "                            'Min': [df[col].min()], \n",
    "                            'q = '+str(q_min): [df[col].quantile(q_min)], \n",
    "                            'Median': [df[col].median()], \n",
    "                            'Mean': [df[col].mean()], \n",
    "                            'q = '+str(q_max): [df[col].quantile(q_max)], \n",
    "                            'Max': [df[col].max()]})\n",
    "    # add summary statistics\n",
    "    for col in ['Net_worth', 'Net_income']:\n",
    "        df_temp = pd.DataFrame({'Variable': [col], \n",
    "                            'Min': [df[col].min()], \n",
    "                            'q = '+str(q_min): [df[col].quantile(q_min)], \n",
    "                            'Median': [df[col].median()], \n",
    "                            'Mean': [df[col].mean()], \n",
    "                            'q = '+str(q_max): [df[col].quantile(q_max)], \n",
    "                            'Max': [df[col].max()]})\n",
    "        df_stat = pd.concat([df_stat, df_temp], ignore_index = True)\n",
    "    \n",
    "    \n",
    "    for col in ['NIE','NII', 'Loans', 'Deposits', 'Securities', 'II_Loans', 'IE_Deposits', 'Sales']:\n",
    "        # add column devided to Total assets\n",
    "        df[col+'_TA'] = df[col]/df['Total_assets']\n",
    "\n",
    "        # calculate quantiles\n",
    "        q_max_value = df[col+'_TA'].quantile(q_max)\n",
    "        q_min_value = df[col+'_TA'].quantile(q_min)\n",
    "\n",
    "        # add summary statistics\n",
    "        df_temp = pd.DataFrame({'Variable': [col, col+'/ Total_assets'], \n",
    "                            'Min': [df[col].min(), df[col+'_TA'].min()], \n",
    "                            'q = '+str(q_min): [df[col].quantile(q_min), df[col+'_TA'].quantile(q_min)], \n",
    "                            'Median': [df[col].median(), df[col+'_TA'].median()], \n",
    "                            'Mean': [df[col].mean(), df[col+'_TA'].mean()], \n",
    "                            'q = '+str(q_max): [df[col].quantile(q_max), df[col+'_TA'].quantile(q_max)], \n",
    "                            'Max': [df[col].max(), df[col+'_TA'].max()]})\n",
    "        df_stat = pd.concat([df_stat, df_temp], ignore_index = True)\n",
    "\n",
    "        # replace the tales with corresponding quantiles\n",
    "        for index in df.loc[df[col+'_TA']>q_max_value].index:\n",
    "            df.loc[index, col+'_TA'] = q_max_value\n",
    "            df.loc[index, col] = df.loc[index, col+'_TA'] * df.loc[index, 'Total_assets']\n",
    "\n",
    "        for index in df.loc[df[col+'_TA']<q_min_value].index:\n",
    "            df.loc[index, col+'_TA'] = q_min_value\n",
    "            df.loc[index, col] = df.loc[index, col+'_TA'] * df.loc[index, 'Total_assets']\n",
    "        \n",
    "    # update dependent columns: PoL (Price of Loans), CoF (Cost of Funds)\n",
    "    #df.drop(columns = ['PoL', 'CoF'])\n",
    "    df['PoL'] = df['II_Loans'] / df['Loans']\n",
    "    df['CoF'] = df['IE_Deposits'] / df['Deposits']\n",
    "    \n",
    "    return df, df_stat"
   ]
  },
  {
   "cell_type": "code",
   "execution_count": 8,
   "id": "265ede27",
   "metadata": {},
   "outputs": [],
   "source": [
    "path_var = path + r'\\var'\n",
    "path_to = path + r'\\var'\n",
    "path_stat = path\n",
    "q_min = 0.01\n",
    "q_max = 0.99\n",
    "\n",
    "for file in files:\n",
    "    df = pd.read_excel(path_var + r'\\\\' + file)\n",
    "    df_output, df_stat = Winsorize(df, q_min, q_max)\n",
    "    df_stat.to_excel(path_stat + r'\\\\' + file[:file.find('.')] + '_stat.xlsx')\n",
    "    df_output.to_excel(path_to + r'\\\\' + file[:file.find('.')] + '_wins.xlsx')\n",
    "    #df_output.to_csv(path_to + r'\\\\' + file[:file.find('.')] + '_wins.csv', encoding='utf-8')"
   ]
  },
  {
   "cell_type": "markdown",
   "id": "7d1d09d4",
   "metadata": {},
   "source": [
    "## NOT NEEDED\n",
    "#### Final Clean up\n",
    "Delete Toyota bank (register number 3470) and delete unnecessary columns. Save to the folder ```vars```. This action is not needed since Toyota bank doesn't have any securities and therefore will drop out from markup estimation."
   ]
  },
  {
   "cell_type": "code",
   "execution_count": 9,
   "id": "8e9404ca",
   "metadata": {},
   "outputs": [
    {
     "data": {
      "text/plain": [
       "['bankdata_2017-2020_y_var_real_ruo_wins.xlsx',\n",
       " 'bankdata_201709-202109_q_var_real_ruo_wins.xlsx']"
      ]
     },
     "execution_count": 9,
     "metadata": {},
     "output_type": "execute_result"
    }
   ],
   "source": [
    "path_var = path + r'\\var'\n",
    "dir_list = os.listdir(path_var)\n",
    "\n",
    "files = []\n",
    "for file in dir_list:\n",
    "    if file.find('_ruo_wins.xlsx')>0:\n",
    "        files.append(file)\n",
    "files"
   ]
  },
  {
   "cell_type": "code",
   "execution_count": 10,
   "id": "eb992d0a",
   "metadata": {},
   "outputs": [],
   "source": [
    "def delete_unnamed_cols(df):\n",
    "    columns_delete = []\n",
    "    for col in df.columns:\n",
    "        if col.find('Unnamed:')>=0:\n",
    "            columns_delete.append(col)\n",
    "        if col.find('_TA')>0:\n",
    "            columns_delete.append(col)\n",
    "    print('Columns deleted:', columns_delete)\n",
    "    return df.drop(columns=columns_delete)"
   ]
  },
  {
   "cell_type": "code",
   "execution_count": 11,
   "id": "9daabfe9",
   "metadata": {},
   "outputs": [
    {
     "name": "stdout",
     "output_type": "stream",
     "text": [
      "Columns deleted: ['Unnamed: 0.3', 'Unnamed: 0.2', 'Unnamed: 0.1', 'Unnamed: 0', 'NIE_TA', 'NII_TA', 'Loans_TA', 'Deposits_TA', 'Securities_TA', 'II_Loans_TA', 'IE_Deposits_TA', 'Sales_TA']\n",
      "Columns deleted: ['Unnamed: 0.3', 'Unnamed: 0.2', 'Unnamed: 0.1', 'Unnamed: 0', 'NIE_TA', 'NII_TA', 'Loans_TA', 'Deposits_TA', 'Securities_TA', 'II_Loans_TA', 'IE_Deposits_TA', 'Sales_TA']\n"
     ]
    }
   ],
   "source": [
    "path_var = path + r'\\var'\n",
    "path_to = path + r'\\var'\n",
    "\n",
    "for file in files:\n",
    "    df = pd.read_excel(path_var + r'\\\\' + file)\n",
    "    df = df.loc[df['regnum']!=3470] # delete Toyota bank\n",
    "    df = delete_unnamed_cols(df) # delete redundant columns\n",
    "    df.to_excel(path_to + r'\\\\' + file[:file.find('.')] + '_clean.xlsx')\n",
    "    #df.to_csv(path_to + r'\\\\' + file[:file.find('.')] + '_clean.csv', encoding='utf-8')"
   ]
  },
  {
   "cell_type": "code",
   "execution_count": null,
   "id": "d70ecd7b",
   "metadata": {},
   "outputs": [],
   "source": []
  }
 ],
 "metadata": {
  "kernelspec": {
   "display_name": "Python 3 (ipykernel)",
   "language": "python",
   "name": "python3"
  },
  "language_info": {
   "codemirror_mode": {
    "name": "ipython",
    "version": 3
   },
   "file_extension": ".py",
   "mimetype": "text/x-python",
   "name": "python",
   "nbconvert_exporter": "python",
   "pygments_lexer": "ipython3",
   "version": "3.9.12"
  }
 },
 "nbformat": 4,
 "nbformat_minor": 5
}
